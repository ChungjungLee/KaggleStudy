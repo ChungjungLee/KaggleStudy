{
 "cells": [
  {
   "cell_type": "code",
   "execution_count": 1,
   "metadata": {},
   "outputs": [],
   "source": [
    "%matplotlib inline\n",
    "\n",
    "import matplotlib as mpl\n",
    "import matplotlib.pyplot as plt\n",
    "import matplotlib.font_manager as fm\n",
    "\n",
    "mpl.rcParams['axes.unicode_minus'] = False"
   ]
  },
  {
   "cell_type": "code",
   "execution_count": 2,
   "metadata": {},
   "outputs": [
    {
     "data": {
      "text/plain": [
       "array([  12,   87,   76,    0,   15,   -5,  -20, -116,  -77, -162, -231,\n",
       "       -184, -178, -245, -226, -197, -187, -260, -266, -280, -355, -423,\n",
       "       -461, -546, -628, -657, -694, -610, -679, -638, -603, -648, -696,\n",
       "       -603, -667, -658, -571, -663, -578, -561, -522, -529, -478, -383,\n",
       "       -351, -382, -293, -335, -303, -249])"
      ]
     },
     "execution_count": 2,
     "metadata": {},
     "output_type": "execute_result"
    }
   ],
   "source": [
    "import numpy as np\n",
    "\n",
    "data = np.random.randint(-100, 100, 50).cumsum()\n",
    "data"
   ]
  },
  {
   "cell_type": "code",
   "execution_count": 3,
   "metadata": {},
   "outputs": [
    {
     "data": {
      "text/plain": [
       "Text(0.5, 0, '시간(분)')"
      ]
     },
     "execution_count": 3,
     "metadata": {},
     "output_type": "execute_result"
    },
    {
     "name": "stderr",
     "output_type": "stream",
     "text": [
      "/Users/chungjunglee/opt/anaconda3/lib/python3.7/site-packages/matplotlib/backends/backend_agg.py:211: RuntimeWarning: Glyph 49884 missing from current font.\n",
      "  font.set_text(s, 0.0, flags=flags)\n",
      "/Users/chungjunglee/opt/anaconda3/lib/python3.7/site-packages/matplotlib/backends/backend_agg.py:211: RuntimeWarning: Glyph 44036 missing from current font.\n",
      "  font.set_text(s, 0.0, flags=flags)\n",
      "/Users/chungjunglee/opt/anaconda3/lib/python3.7/site-packages/matplotlib/backends/backend_agg.py:211: RuntimeWarning: Glyph 48324 missing from current font.\n",
      "  font.set_text(s, 0.0, flags=flags)\n",
      "/Users/chungjunglee/opt/anaconda3/lib/python3.7/site-packages/matplotlib/backends/backend_agg.py:211: RuntimeWarning: Glyph 44032 missing from current font.\n",
      "  font.set_text(s, 0.0, flags=flags)\n",
      "/Users/chungjunglee/opt/anaconda3/lib/python3.7/site-packages/matplotlib/backends/backend_agg.py:211: RuntimeWarning: Glyph 44201 missing from current font.\n",
      "  font.set_text(s, 0.0, flags=flags)\n",
      "/Users/chungjunglee/opt/anaconda3/lib/python3.7/site-packages/matplotlib/backends/backend_agg.py:211: RuntimeWarning: Glyph 52628 missing from current font.\n",
      "  font.set_text(s, 0.0, flags=flags)\n",
      "/Users/chungjunglee/opt/anaconda3/lib/python3.7/site-packages/matplotlib/backends/backend_agg.py:211: RuntimeWarning: Glyph 51060 missing from current font.\n",
      "  font.set_text(s, 0.0, flags=flags)\n",
      "/Users/chungjunglee/opt/anaconda3/lib/python3.7/site-packages/matplotlib/backends/backend_agg.py:211: RuntimeWarning: Glyph 48516 missing from current font.\n",
      "  font.set_text(s, 0.0, flags=flags)\n",
      "/Users/chungjunglee/opt/anaconda3/lib/python3.7/site-packages/matplotlib/backends/backend_agg.py:180: RuntimeWarning: Glyph 49884 missing from current font.\n",
      "  font.set_text(s, 0, flags=flags)\n",
      "/Users/chungjunglee/opt/anaconda3/lib/python3.7/site-packages/matplotlib/backends/backend_agg.py:180: RuntimeWarning: Glyph 44036 missing from current font.\n",
      "  font.set_text(s, 0, flags=flags)\n",
      "/Users/chungjunglee/opt/anaconda3/lib/python3.7/site-packages/matplotlib/backends/backend_agg.py:180: RuntimeWarning: Glyph 48516 missing from current font.\n",
      "  font.set_text(s, 0, flags=flags)\n",
      "/Users/chungjunglee/opt/anaconda3/lib/python3.7/site-packages/matplotlib/backends/backend_agg.py:211: RuntimeWarning: Glyph 51452 missing from current font.\n",
      "  font.set_text(s, 0.0, flags=flags)\n",
      "/Users/chungjunglee/opt/anaconda3/lib/python3.7/site-packages/matplotlib/backends/backend_agg.py:211: RuntimeWarning: Glyph 49885 missing from current font.\n",
      "  font.set_text(s, 0.0, flags=flags)\n",
      "/Users/chungjunglee/opt/anaconda3/lib/python3.7/site-packages/matplotlib/backends/backend_agg.py:180: RuntimeWarning: Glyph 51452 missing from current font.\n",
      "  font.set_text(s, 0, flags=flags)\n",
      "/Users/chungjunglee/opt/anaconda3/lib/python3.7/site-packages/matplotlib/backends/backend_agg.py:180: RuntimeWarning: Glyph 49885 missing from current font.\n",
      "  font.set_text(s, 0, flags=flags)\n",
      "/Users/chungjunglee/opt/anaconda3/lib/python3.7/site-packages/matplotlib/backends/backend_agg.py:180: RuntimeWarning: Glyph 44032 missing from current font.\n",
      "  font.set_text(s, 0, flags=flags)\n",
      "/Users/chungjunglee/opt/anaconda3/lib/python3.7/site-packages/matplotlib/backends/backend_agg.py:180: RuntimeWarning: Glyph 44201 missing from current font.\n",
      "  font.set_text(s, 0, flags=flags)\n",
      "/Users/chungjunglee/opt/anaconda3/lib/python3.7/site-packages/matplotlib/backends/backend_agg.py:180: RuntimeWarning: Glyph 48324 missing from current font.\n",
      "  font.set_text(s, 0, flags=flags)\n",
      "/Users/chungjunglee/opt/anaconda3/lib/python3.7/site-packages/matplotlib/backends/backend_agg.py:180: RuntimeWarning: Glyph 52628 missing from current font.\n",
      "  font.set_text(s, 0, flags=flags)\n",
      "/Users/chungjunglee/opt/anaconda3/lib/python3.7/site-packages/matplotlib/backends/backend_agg.py:180: RuntimeWarning: Glyph 51060 missing from current font.\n",
      "  font.set_text(s, 0, flags=flags)\n"
     ]
    },
    {
     "data": {
      "image/png": "[encoded data removed]",
      "text/plain": [
       "<Figure size 432x288 with 1 Axes>"
      ]
     },
     "metadata": {
      "needs_background": "light"
     },
     "output_type": "display_data"
    }
   ],
   "source": [
    "plt.plot(range(50), data, 'r')\n",
    "plt.title('시간별 가격 추이')\n",
    "plt.ylabel('주식 가격')\n",
    "plt.xlabel('시간(분)')"
   ]
  },
  {
   "cell_type": "code",
   "execution_count": 4,
   "metadata": {},
   "outputs": [
    {
     "name": "stdout",
     "output_type": "stream",
     "text": [
      "버전:  3.1.1\n",
      "설치 위치:  /Users/chungjunglee/opt/anaconda3/lib/python3.7/site-packages/matplotlib/__init__.py\n",
      "설정 위치:  /Users/chungjunglee/.matplotlib\n",
      "캐시 위치:  /Users/chungjunglee/.matplotlib\n",
      "설정 파일 위치:  /Users/chungjunglee/opt/anaconda3/lib/python3.7/site-packages/matplotlib/mpl-data/matplotlibrc\n"
     ]
    }
   ],
   "source": [
    "print('버전: ', mpl.__version__)\n",
    "print('설치 위치: ', mpl.__file__)\n",
    "print('설정 위치: ', mpl.get_configdir())\n",
    "print('캐시 위치: ', mpl.get_cachedir())\n",
    "print('설정 파일 위치: ', mpl.matplotlib_fname())"
   ]
  },
  {
   "cell_type": "code",
   "execution_count": 5,
   "metadata": {},
   "outputs": [
    {
     "name": "stdout",
     "output_type": "stream",
     "text": [
      "332\n"
     ]
    }
   ],
   "source": [
    "font_list = fm.findSystemFonts(fontpaths=None , fontext='ttf')\n",
    "print(len(font_list))"
   ]
  },
  {
   "cell_type": "code",
   "execution_count": 6,
   "metadata": {},
   "outputs": [
    {
     "name": "stdout",
     "output_type": "stream",
     "text": [
      "332\n"
     ]
    },
    {
     "name": "stderr",
     "output_type": "stream",
     "text": [
      "/Users/chungjunglee/opt/anaconda3/lib/python3.7/site-packages/ipykernel_launcher.py:1: MatplotlibDeprecationWarning: \n",
      "The OSXInstalledFonts function was deprecated in Matplotlib 3.1 and will be removed in 3.3.\n",
      "  \"\"\"Entry point for launching an IPython kernel.\n"
     ]
    }
   ],
   "source": [
    "font_list_mac = fm.OSXInstalledFonts()\n",
    "print(len(font_list_mac))"
   ]
  },
  {
   "cell_type": "code",
   "execution_count": 7,
   "metadata": {},
   "outputs": [
    {
     "data": {
      "text/plain": [
       "['/System/Library/Fonts/Supplemental/NotoSansCoptic-Regular.ttf',\n",
       " '/System/Library/Fonts/Supplemental/Courier New Italic.ttf',\n",
       " '/System/Library/Fonts/MarkerFelt.ttc',\n",
       " '/System/Library/Fonts/Supplemental/STIXIntSmReg.otf',\n",
       " '/System/Library/Fonts/Supplemental/Kannada Sangam MN.ttc',\n",
       " '/System/Library/Fonts/Supplemental/NotoSansRunic-Regular.ttf',\n",
       " '/System/Library/Fonts/SFNSDisplayCondensed-Heavy.otf',\n",
       " '/System/Library/Fonts/Supplemental/NotoSansLycian-Regular.ttf',\n",
       " '/System/Library/Fonts/Supplemental/AppleGothic.ttf',\n",
       " '/System/Library/Fonts/Supplemental/NotoSansOlChiki-Regular.ttf']"
      ]
     },
     "execution_count": 7,
     "metadata": {},
     "output_type": "execute_result"
    }
   ],
   "source": [
    "font_list[:10]"
   ]
  },
  {
   "cell_type": "code",
   "execution_count": 8,
   "metadata": {},
   "outputs": [
    {
     "data": {
      "text/plain": [
       "['cmb10',\n",
       " 'DejaVu Serif',\n",
       " 'NanumGothic',\n",
       " 'NanumGothic',\n",
       " 'STIXGeneral',\n",
       " 'STIXSizeOneSym',\n",
       " 'DejaVu Sans Mono',\n",
       " 'STIXNonUnicode',\n",
       " 'STIXGeneral',\n",
       " 'cmr10',\n",
       " 'STIXGeneral',\n",
       " 'DejaVu Serif',\n",
       " 'STIXSizeThreeSym',\n",
       " 'DejaVu Serif',\n",
       " 'DejaVu Sans Mono',\n",
       " 'STIXSizeThreeSym',\n",
       " 'DejaVu Sans',\n",
       " 'cmex10',\n",
       " 'STIXSizeFourSym',\n",
       " 'DejaVu Serif',\n",
       " 'STIXNonUnicode',\n",
       " 'DejaVu Sans',\n",
       " 'STIXGeneral',\n",
       " 'STIXNonUnicode',\n",
       " 'DejaVu Sans Mono',\n",
       " 'STIXNonUnicode',\n",
       " 'DejaVu Sans Display',\n",
       " 'STIXSizeTwoSym',\n",
       " 'NanumGothic',\n",
       " 'DejaVu Sans',\n",
       " 'STIXSizeOneSym',\n",
       " 'DejaVu Sans Mono',\n",
       " 'STIXSizeTwoSym',\n",
       " 'cmtt10',\n",
       " 'STIXSizeFourSym',\n",
       " 'cmsy10',\n",
       " 'cmss10',\n",
       " 'DejaVu Sans',\n",
       " 'cmmi10',\n",
       " 'STIXSizeFiveSym',\n",
       " 'DejaVu Serif Display',\n",
       " 'STIXSizeFourSym',\n",
       " 'STIXSizeThreeSym',\n",
       " 'Optima',\n",
       " 'Noto Sans Mongolian',\n",
       " 'Arial',\n",
       " 'Arial',\n",
       " 'Noto Serif Balinese',\n",
       " 'Impact',\n",
       " 'Tamil Sangam MN',\n",
       " 'Al Tarikh',\n",
       " 'STIXGeneral',\n",
       " 'STIXIntegralsUpD',\n",
       " 'Verdana',\n",
       " 'Arial Narrow',\n",
       " 'Plantagenet Cherokee',\n",
       " 'Myanmar Sangam MN',\n",
       " 'Apple Chancery',\n",
       " 'Myanmar MN',\n",
       " 'Noto Serif Myanmar',\n",
       " 'Hiragino Sans',\n",
       " '.SF NS Text Condensed',\n",
       " '.SF NS Mono',\n",
       " 'Noto Sans Brahmi',\n",
       " 'Gill Sans',\n",
       " 'STIXSizeOneSym',\n",
       " 'Hoefler Text',\n",
       " 'Farisi',\n",
       " 'Damascus',\n",
       " 'Noto Sans Chakma',\n",
       " '.SF NS Mono',\n",
       " '.SF NS Text Condensed',\n",
       " 'Telugu MN',\n",
       " 'Hiragino Sans',\n",
       " '.Helvetica Neue DeskInterface',\n",
       " 'Big Caslon',\n",
       " 'Zapfino',\n",
       " 'STIXNonUnicode',\n",
       " 'Songti SC',\n",
       " 'Noto Sans Mandaic',\n",
       " 'Bodoni 72 Smallcaps',\n",
       " '.SF Compact Rounded',\n",
       " 'Hiragino Sans',\n",
       " 'Noto Sans Bamum',\n",
       " 'Mshtakan',\n",
       " '.SF Compact Text',\n",
       " 'Noto Sans Buhid',\n",
       " 'Noto Sans Kannada',\n",
       " 'Hoefler Text',\n",
       " 'Noto Sans New Tai Lue',\n",
       " '.SF NS Display Condensed',\n",
       " '.SF NS Display Condensed',\n",
       " 'Noto Sans Ogham',\n",
       " 'Trebuchet MS',\n",
       " 'Noto Sans Runic',\n",
       " 'Mukta Mahee',\n",
       " 'Bodoni 72',\n",
       " 'Tahoma',\n",
       " 'Noto Sans Batak',\n",
       " 'Noto Sans Tai Viet',\n",
       " 'Noto Sans Rejang',\n",
       " 'STIXSizeTwoSym',\n",
       " 'Heiti TC',\n",
       " 'STIXGeneral',\n",
       " 'STIXNonUnicode',\n",
       " 'Noto Sans Lycian',\n",
       " 'Georgia',\n",
       " 'Tamil MN',\n",
       " 'Times New Roman',\n",
       " 'Hiragino Sans',\n",
       " 'Devanagari MT',\n",
       " 'DecoType Naskh',\n",
       " 'STIXIntegralsUpSm',\n",
       " 'Noto Sans Avestan',\n",
       " 'Noto Sans Javanese',\n",
       " 'Gurmukhi MT',\n",
       " '.SF NS Text Condensed',\n",
       " 'Iowan Old Style',\n",
       " 'Devanagari Sangam MN',\n",
       " 'DIN Alternate',\n",
       " 'American Typewriter',\n",
       " 'Mishafi',\n",
       " 'Arial',\n",
       " 'STIXIntegralsUp',\n",
       " 'STIXSizeTwoSym',\n",
       " '.SF NS Display Condensed',\n",
       " 'System Font',\n",
       " 'Noto Sans Old South Arabian',\n",
       " '.Aqua Kana',\n",
       " '.SF Compact Text',\n",
       " 'Thonburi',\n",
       " 'Arial',\n",
       " 'Helvetica',\n",
       " 'Noto Sans Armenian',\n",
       " 'Oriya MN',\n",
       " 'Noto Sans Tagalog',\n",
       " 'Noto Sans Phoenician',\n",
       " 'Tahoma',\n",
       " 'Noto Sans Buginese',\n",
       " 'Noto Sans Lydian',\n",
       " 'Noto Sans Tai Tham',\n",
       " 'AppleGothic',\n",
       " '.SF NS Display Condensed',\n",
       " 'Trebuchet MS',\n",
       " 'Noto Sans Osmanya',\n",
       " 'Hiragino Maru Gothic Pro',\n",
       " 'PT Mono',\n",
       " 'Noto Sans Kayah Li',\n",
       " 'Noto Sans Lisu',\n",
       " 'STIXGeneral',\n",
       " 'STIXSizeOneSym',\n",
       " 'Gujarati MT',\n",
       " 'Kannada MN',\n",
       " 'Sinhala Sangam MN',\n",
       " 'Symbol',\n",
       " 'Noto Sans Cypriot',\n",
       " 'Noto Sans Thaana',\n",
       " 'Apple Braille',\n",
       " 'Heiti TC',\n",
       " 'Noto Sans Imperial Aramaic',\n",
       " 'Noto Sans Vai',\n",
       " 'PT Serif',\n",
       " 'Sukhumvit Set',\n",
       " '.SF NS Rounded',\n",
       " 'Luminari',\n",
       " 'Gurmukhi MN',\n",
       " 'PT Sans',\n",
       " 'Andale Mono',\n",
       " 'Brush Script MT',\n",
       " 'Kokonor',\n",
       " 'Shree Devanagari 714',\n",
       " 'Corsiva Hebrew',\n",
       " 'Noto Sans Shavian',\n",
       " 'Apple Braille',\n",
       " 'Georgia',\n",
       " 'Noto Sans Linear B',\n",
       " 'Nadeem',\n",
       " 'STIXGeneral',\n",
       " 'STIXSizeFiveSym',\n",
       " 'Noto Sans Inscriptional Pahlavi',\n",
       " 'AppleMyungjo',\n",
       " 'Arial Hebrew',\n",
       " 'Lucida Grande',\n",
       " 'Beirut',\n",
       " 'Charter',\n",
       " 'Sathu',\n",
       " 'Times New Roman',\n",
       " 'Gujarati Sangam MN',\n",
       " 'Apple Symbols',\n",
       " 'Apple Braille',\n",
       " 'Oriya Sangam MN',\n",
       " 'KufiStandardGK',\n",
       " 'Noto Sans Tagbanwa',\n",
       " 'Hiragino Sans',\n",
       " 'New Peninim MT',\n",
       " 'Georgia',\n",
       " 'STIXVariants',\n",
       " 'Diwan Kufi',\n",
       " '.SF NS Display Condensed',\n",
       " 'Lao MN',\n",
       " '.New York',\n",
       " 'Savoye LET',\n",
       " 'Hiragino Sans',\n",
       " 'Gurmukhi Sangam MN',\n",
       " 'D2Coding',\n",
       " 'Arial Rounded MT Bold',\n",
       " 'Verdana',\n",
       " 'Chalkboard SE',\n",
       " 'Microsoft Sans Serif',\n",
       " 'Bradley Hand',\n",
       " 'STIXIntegralsUp',\n",
       " 'Apple Braille',\n",
       " 'Khmer MN',\n",
       " 'Avenir Next',\n",
       " 'Trebuchet MS',\n",
       " 'STIXIntegralsSm',\n",
       " 'Noto Sans Old Turkic',\n",
       " 'Noto Sans Cuneiform',\n",
       " 'Mishafi Gold',\n",
       " '.LastResort',\n",
       " 'Hiragino Mincho ProN',\n",
       " 'Waseem',\n",
       " 'Noto Sans Syloti Nagri',\n",
       " 'Verdana',\n",
       " '.SF Compact Display',\n",
       " 'Arial Black',\n",
       " 'Trebuchet MS',\n",
       " 'Noto Sans Lepcha',\n",
       " 'Lao Sangam MN',\n",
       " 'Courier New',\n",
       " 'Geeza Pro',\n",
       " 'Baskerville',\n",
       " 'STIXNonUnicode',\n",
       " 'Ayuthaya',\n",
       " 'Skia',\n",
       " '.SF NS Display Condensed',\n",
       " 'Noto Sans Ugaritic',\n",
       " 'STIXIntegralsUpD',\n",
       " 'Arial Narrow',\n",
       " 'Papyrus',\n",
       " 'PingFang HK',\n",
       " 'STIXIntegralsSm',\n",
       " 'DIN Condensed',\n",
       " 'Noto Sans Glagolitic',\n",
       " 'ITF Devanagari',\n",
       " 'Hiragino Sans',\n",
       " 'STIXIntegralsD',\n",
       " 'Noteworthy',\n",
       " 'Times',\n",
       " 'Noto Sans Syriac',\n",
       " 'Rockwell',\n",
       " 'Arial Unicode MS',\n",
       " 'Muna',\n",
       " 'Diwan Thuluth',\n",
       " 'Noto Sans Sundanese',\n",
       " 'Bodoni 72 Oldstyle',\n",
       " '.New York',\n",
       " '.SF NS Display Condensed',\n",
       " 'Noto Nastaliq Urdu',\n",
       " '.SF NS Text Condensed',\n",
       " 'System Font',\n",
       " 'Noto Sans Egyptian Hieroglyphs',\n",
       " 'Superclarendon',\n",
       " 'Noto Sans Gothic',\n",
       " 'Malayalam Sangam MN',\n",
       " 'Al Nile',\n",
       " 'Silom',\n",
       " 'Noto Sans Kaithi',\n",
       " 'Bangla Sangam MN',\n",
       " 'Copperplate',\n",
       " 'Noto Sans Coptic',\n",
       " '.SF NS Display Condensed',\n",
       " 'STIXVariants',\n",
       " 'STIXIntegralsD',\n",
       " 'Krungthep',\n",
       " 'Hiragino Sans',\n",
       " 'Hiragino Sans',\n",
       " 'Galvji',\n",
       " 'Sinhala MN',\n",
       " 'Times New Roman',\n",
       " 'STIXIntegralsUpSm',\n",
       " 'Noto Sans Myanmar',\n",
       " 'Courier New',\n",
       " 'Wingdings 2',\n",
       " 'Noto Sans NKo',\n",
       " 'Bangla MN',\n",
       " 'Kohinoor Bangla',\n",
       " 'Bodoni Ornaments',\n",
       " 'SignPainter',\n",
       " 'Noto Sans Ol Chiki',\n",
       " 'Avenir Next Condensed',\n",
       " 'Georgia',\n",
       " 'Arial Narrow',\n",
       " 'Zapf Dingbats',\n",
       " 'STIXNonUnicode',\n",
       " 'Apple Braille',\n",
       " 'Seravek',\n",
       " 'Chalkboard',\n",
       " 'STIXSizeThreeSym',\n",
       " 'Noto Sans Old Italic',\n",
       " 'Noto Sans Meetei Mayek',\n",
       " 'Noto Sans Cham',\n",
       " 'Hiragino Sans',\n",
       " 'Noto Sans Carian',\n",
       " 'Cochin',\n",
       " 'Euphemia UCAS',\n",
       " 'Avenir',\n",
       " 'Helvetica Neue',\n",
       " 'Verdana',\n",
       " 'Noto Sans PhagsPa',\n",
       " 'Marker Felt',\n",
       " 'Farah',\n",
       " 'Kohinoor Telugu',\n",
       " 'Courier New',\n",
       " '.SF NS Text Condensed',\n",
       " 'Noto Sans Inscriptional Parthian',\n",
       " 'Noto Sans Tai Le',\n",
       " '.Arabic UI Display',\n",
       " 'Futura',\n",
       " 'Didot',\n",
       " 'PT Serif Caption',\n",
       " 'Kohinoor Gujarati',\n",
       " '.Keyboard',\n",
       " 'Raanana',\n",
       " 'STIXSizeFourSym',\n",
       " 'Noto Sans Samaritan',\n",
       " 'Courier New',\n",
       " 'Sana',\n",
       " 'Noto Sans Tifinagh',\n",
       " 'Herculanum',\n",
       " 'Noto Sans Hanunoo',\n",
       " 'Al Bayan',\n",
       " 'Comic Sans MS',\n",
       " 'Palatino',\n",
       " 'Hiragino Sans GB',\n",
       " 'Times New Roman',\n",
       " 'Wingdings 3',\n",
       " 'Webdings',\n",
       " 'Chalkduster',\n",
       " 'Phosphate',\n",
       " 'Marion',\n",
       " 'Noto Sans Old Persian',\n",
       " 'Kohinoor Devanagari',\n",
       " 'Wingdings',\n",
       " 'Kefa',\n",
       " 'Kailasa',\n",
       " 'Menlo',\n",
       " 'Noto Sans Kharoshthi',\n",
       " 'Kannada Sangam MN',\n",
       " 'Baghdad',\n",
       " 'Apple SD Gothic Neo',\n",
       " '.SF NS Text Condensed',\n",
       " 'Comic Sans MS',\n",
       " 'Snell Roundhand',\n",
       " 'Trattatello',\n",
       " 'Noto Sans Limbu',\n",
       " 'InaiMathi',\n",
       " 'Telugu Sangam MN',\n",
       " 'Athelas',\n",
       " '.Arabic UI Text',\n",
       " 'Malayalam MN',\n",
       " 'Noto Sans Oriya',\n",
       " '.SF NS Display Condensed',\n",
       " 'Khmer Sangam MN',\n",
       " 'Noto Sans Saurashtra',\n",
       " 'Noto Sans Yi',\n",
       " 'Arial Narrow']"
      ]
     },
     "execution_count": 8,
     "metadata": {},
     "output_type": "execute_result"
    }
   ],
   "source": [
    "f = [f.name for f in fm.fontManager.ttflist]\n",
    "f"
   ]
  },
  {
   "cell_type": "code",
   "execution_count": 9,
   "metadata": {},
   "outputs": [
    {
     "data": {
      "text/plain": [
       "[('NanumGothic',\n",
       "  '/Users/chungjunglee/opt/anaconda3/lib/python3.7/site-packages/matplotlib/mpl-data/fonts/ttf/NanumGothicExtraBold.ttf'),\n",
       " ('NanumGothic',\n",
       "  '/Users/chungjunglee/opt/anaconda3/lib/python3.7/site-packages/matplotlib/mpl-data/fonts/ttf/NanumGothic.ttf'),\n",
       " ('NanumGothic',\n",
       "  '/Users/chungjunglee/opt/anaconda3/lib/python3.7/site-packages/matplotlib/mpl-data/fonts/ttf/NanumGothicBold.ttf')]"
      ]
     },
     "execution_count": 9,
     "metadata": {},
     "output_type": "execute_result"
    }
   ],
   "source": [
    "[(f.name, f.fname) for f in fm.fontManager.ttflist if 'Nanum' in f.name]\n"
   ]
  },
  {
   "cell_type": "code",
   "execution_count": 10,
   "metadata": {},
   "outputs": [
    {
     "data": {
      "text/plain": [
       "Text(0.5, 0, '시간(분)')"
      ]
     },
     "execution_count": 10,
     "metadata": {},
     "output_type": "execute_result"
    },
    {
     "data": {
      "image/png": "[encoded data removed]",
      "text/plain": [
       "<Figure size 432x288 with 1 Axes>"
      ]
     },
     "metadata": {
      "needs_background": "light"
     },
     "output_type": "display_data"
    }
   ],
   "source": [
    "path = '/Users/chungjunglee/opt/anaconda3/lib/python3.7/site-packages/matplotlib/mpl-data/fonts/ttf/NanumGothic.ttf'\n",
    "fontprop = fm.FontProperties(fname=path, size=18)\n",
    "\n",
    "plt.plot(range(50), data, 'r')\n",
    "plt.title('시간별 가격 추이', fontproperties=fontprop)\n",
    "plt.ylabel('주식 가격', fontproperties=fontprop)\n",
    "plt.xlabel('시간(분)', fontproperties=fontprop)"
   ]
  },
  {
   "cell_type": "code",
   "execution_count": 11,
   "metadata": {},
   "outputs": [
    {
     "name": "stdout",
     "output_type": "stream",
     "text": [
      "# 설정되어 있는 폰트 사이즈\n",
      "10.0\n",
      "# 폰트 글꼴\n",
      "['sans-serif']\n"
     ]
    }
   ],
   "source": [
    "import matplotlib.pyplot as plt\n",
    "\n",
    "print('# 설정되어 있는 폰트 사이즈')\n",
    "print(plt.rcParams['font.size'])\n",
    "print('# 폰트 글꼴')\n",
    "print(plt.rcParams['font.family'])"
   ]
  },
  {
   "cell_type": "code",
   "execution_count": 12,
   "metadata": {},
   "outputs": [],
   "source": [
    "plt.rcParams['font.family'] = 'NanumGothic'\n",
    "plt.rcParams['font.size'] = 20\n",
    "plt.rcParams['figure.figsize'] = (14, 4)"
   ]
  },
  {
   "cell_type": "code",
   "execution_count": 13,
   "metadata": {},
   "outputs": [
    {
     "data": {
      "image/png": "[encoded data removed]",
      "text/plain": [
       "<Figure size 1008x288 with 1 Axes>"
      ]
     },
     "metadata": {
      "needs_background": "light"
     },
     "output_type": "display_data"
    }
   ],
   "source": [
    "plt.plot(range(50), data, 'r')\n",
    "plt.title('시간별 가격 추이')\n",
    "plt.ylabel('주식 가격')\n",
    "plt.xlabel('시간(분)')\n",
    "plt.style.use('seaborn-pastel')"
   ]
  },
  {
   "cell_type": "code",
   "execution_count": null,
   "metadata": {},
   "outputs": [],
   "source": []
  }
 ],
 "metadata": {
  "kernelspec": {
   "display_name": "Python 3",
   "language": "python",
   "name": "python3"
  },
  "language_info": {
   "codemirror_mode": {
    "name": "ipython",
    "version": 3
   },
   "file_extension": ".py",
   "mimetype": "text/x-python",
   "name": "python",
   "nbconvert_exporter": "python",
   "pygments_lexer": "ipython3",
   "version": "3.7.4"
  }
 },
 "nbformat": 4,
 "nbformat_minor": 2
}
